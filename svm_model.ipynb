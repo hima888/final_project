{
 "cells": [
  {
   "cell_type": "code",
   "execution_count": 80,
   "metadata": {},
   "outputs": [],
   "source": [
    "import pandas as pd \n",
    "from sklearn.svm import SVC\n",
    "import numpy as np\n",
    "import time"
   ]
  },
  {
   "cell_type": "code",
   "execution_count": 39,
   "metadata": {},
   "outputs": [],
   "source": [
    "df=pd.read_csv('Input_Dataset.csv')\n",
    "testdataset =df.iloc[0:,0:6].values\n",
    "test_target=df.iloc[0:,-1].values"
   ]
  },
  {
   "cell_type": "code",
   "execution_count": 72,
   "metadata": {},
   "outputs": [],
   "source": [
    "# Splitting the dataset into the Training set and Test set\n",
    "from sklearn.cross_validation import train_test_split\n",
    "X_train, X_test, y_train, y_test = train_test_split(testdataset, test_target, test_size = 0.30, random_state = 0)"
   ]
  },
  {
   "cell_type": "code",
   "execution_count": 73,
   "metadata": {},
   "outputs": [],
   "source": [
    "# Feature Scaling\n",
    "from sklearn.preprocessing import StandardScaler\n",
    "sc = StandardScaler()\n",
    "X_train = sc.fit_transform(X_train)\n",
    "X_test = sc.transform(X_test)"
   ]
  },
  {
   "cell_type": "code",
   "execution_count": 74,
   "metadata": {},
   "outputs": [
    {
     "data": {
      "text/plain": [
       "SVC(C=1.0, cache_size=200, class_weight=None, coef0=0.0,\n",
       "  decision_function_shape='ovo', degree=3, gamma='auto', kernel='rbf',\n",
       "  max_iter=-1, probability=False, random_state=None, shrinking=True,\n",
       "  tol=0.001, verbose=False)"
      ]
     },
     "execution_count": 74,
     "metadata": {},
     "output_type": "execute_result"
    }
   ],
   "source": [
    "# Fitting classifier to the Training set\n",
    "clf = SVC(kernel=\"rbf\", decision_function_shape='ovo')\n",
    "clf.fit(X_train, y_train)"
   ]
  },
  {
   "cell_type": "code",
   "execution_count": 75,
   "metadata": {},
   "outputs": [
    {
     "data": {
      "text/plain": [
       "array([0, 1, 1, ..., 1, 0, 0], dtype=int64)"
      ]
     },
     "execution_count": 75,
     "metadata": {},
     "output_type": "execute_result"
    }
   ],
   "source": [
    "# Predicting the Test set results\n",
    "y_pred = clf.predict(X_test)\n",
    "y_pred"
   ]
  },
  {
   "cell_type": "code",
   "execution_count": 78,
   "metadata": {},
   "outputs": [],
   "source": [
    "# Making the Confusion Matrix\n",
    "from sklearn.metrics import confusion_matrix\n",
    "cm = confusion_matrix(y_test, y_pred)"
   ]
  },
  {
   "cell_type": "code",
   "execution_count": 86,
   "metadata": {},
   "outputs": [
    {
     "name": "stdout",
     "output_type": "stream",
     "text": [
      "0.674573055028463\n"
     ]
    }
   ],
   "source": [
    "from sklearn.metrics import accuracy_score\n",
    "print(accuracy_score(y_test,y_pred))"
   ]
  },
  {
   "cell_type": "code",
   "execution_count": 89,
   "metadata": {},
   "outputs": [
    {
     "name": "stdout",
     "output_type": "stream",
     "text": [
      "Accuracy: 67.86222601764874\n",
      "Accuracy: 67.86222601764874\n",
      "Accuracy: 67.86222601764874\n",
      "Accuracy: 67.86222601764874\n",
      "Accuracy: 67.86222601764874\n",
      "Accuracy: 67.86222601764874\n",
      "Accuracy: 67.86222601764874\n",
      "Accuracy: 67.86222601764874\n",
      "Accuracy: 67.86222601764874\n",
      "Accuracy: 67.86222601764874\n",
      "Accuracy: 67.86222601764874\n",
      "Accuracy: 67.86222601764874\n",
      "Accuracy: 67.86222601764874\n",
      "Accuracy: 67.86222601764874\n",
      "Accuracy: 67.86222601764874\n",
      "Accuracy: 67.86222601764874\n",
      "Accuracy: 67.86222601764874\n",
      "Accuracy: 67.86222601764874\n",
      "Accuracy: 67.86222601764874\n",
      "Accuracy: 67.86222601764874\n",
      "Accuracy: 67.86222601764874\n",
      "Accuracy: 67.86222601764874\n",
      "Accuracy: 67.86222601764874\n",
      "Accuracy: 67.86222601764874\n",
      "Accuracy: 67.86222601764874\n",
      "Accuracy: 67.86222601764874\n",
      "Accuracy: 67.86222601764874\n",
      "Accuracy: 67.86222601764874\n",
      "Accuracy: 67.86222601764874\n",
      "Accuracy: 67.86222601764874\n",
      "n_epoch: 30\n",
      "Mean_Accuracy: 67.86222601764872\n",
      "Standard_Deviation: 0.0\n",
      "total_time : 33.86756682395935\n"
     ]
    }
   ],
   "source": [
    "start_time = time.time()\n",
    "n_epoch = 30\n",
    "w = 0\n",
    "r = 1\n",
    "runs = [0]*30\n",
    "\n",
    "for j in range(len(runs)):\n",
    "    # # learning_rate = learning_rate + 0.05\n",
    "    # # n_epoch = n_epoch + 4\n",
    "    r =  r + 1000\n",
    "    if (r + 10000) > 15800:\n",
    "        r = w\n",
    "        w += 300\n",
    "    clf = svm.SVC(kernel=\"rbf\", decision_function_shape='ovo')\n",
    "    clf.fit(testdataset, test_target)\n",
    "\n",
    "    count = 0\n",
    "    total = 0\n",
    "    for i in range(0, len(testdataset)):\n",
    "        total += 1\n",
    "        temp = clf.predict([testdataset[i]])\n",
    "        if temp == test_target[i]:\n",
    "            count += 1\n",
    "    accuracy = count * 100 / total\n",
    "    print('Accuracy: %s' % accuracy)\n",
    "    runs[j] = accuracy\n",
    "\n",
    "mean = sum(runs)/len(runs)\n",
    "print(\"n_epoch: {}\".format(n_epoch))\n",
    "print(\"Mean_Accuracy: {}\".format(mean))\n",
    "print(\"Standard_Deviation: {}\".format(np.std(runs, 0)))\n",
    "time_taken = time.time() - start_time\n",
    "print(\"total_time : {}\".format(time_taken))"
   ]
  }
 ],
 "metadata": {
  "kernelspec": {
   "display_name": "Python 3",
   "language": "python",
   "name": "python3"
  },
  "language_info": {
   "codemirror_mode": {
    "name": "ipython",
    "version": 3
   },
   "file_extension": ".py",
   "mimetype": "text/x-python",
   "name": "python",
   "nbconvert_exporter": "python",
   "pygments_lexer": "ipython3",
   "version": "3.7.0"
  }
 },
 "nbformat": 4,
 "nbformat_minor": 2
}
